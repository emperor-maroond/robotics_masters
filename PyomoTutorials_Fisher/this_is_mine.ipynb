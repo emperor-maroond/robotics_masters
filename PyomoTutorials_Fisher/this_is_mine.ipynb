{
 "cells": [
  {
   "cell_type": "code",
   "execution_count": 1,
   "metadata": {},
   "outputs": [],
   "source": [
    "#%reset\n",
    "# import libraries\n",
    "import sympy as sym\n",
    "import numpy as np\n",
    "from pyomo.environ import*\n",
    "from pyomo.opt import SolverFactory\n",
    "from pyomo.opt import SolverStatus, TerminationCondition\n",
    "\n",
    "#sym.init_printing()\n",
    "from IPython.display import display"
   ]
  },
  {
   "cell_type": "code",
   "execution_count": 2,
   "metadata": {},
   "outputs": [
    {
     "name": "stdout",
     "output_type": "stream",
     "text": [
      "Yeet\n"
     ]
    }
   ],
   "source": [
    "# rerun from here if you don't want to calculate the EOM's again\n",
    "if 'm' in globals():\n",
    "    del m # deletes the model\n",
    "m = ConcreteModel() # create model using pyomo\n",
    "N = 25 # number of nodes (much like samples used between a certain time period)\n",
    "hm=0.5/N # Scaling factor for time-step\n",
    "m.N = RangeSet(N) \n",
    "m.damping=20\n",
    "\n",
    "mass_b=2 # Mass of the base\n",
    "mass_l=1 # Mass of the links\n",
    "len_b=0.3 # Length of the base\n",
    "m.l_min=0.2 # Links min length\n",
    "m.l_max=len_b # Links max length\n",
    "m.F_max=160 # Maximum force that can be applied\n",
    "m.t_max=12 # Maximum torque\n",
    "m.w_max=44 # Max angular velocity (omega)\n",
    "m.dl_max=3\n",
    "m.distance=5\n",
    "\n",
    "print('Yeet')"
   ]
  },
  {
   "cell_type": "code",
   "execution_count": 3,
   "metadata": {},
   "outputs": [
    {
     "name": "stdout",
     "output_type": "stream",
     "text": [
      "Yeet\n"
     ]
    }
   ],
   "source": [
    "# create symbolic variables\n",
    "g = sym.symbols('g')\n",
    "mb,ml = sym.symbols(['m_{body}','m_{leg}']) # mass\n",
    "lb = sym.symbols(['l_{body}']) # length\n",
    "ll = sym.symbols(['l_{leg}'])\n",
    "Inb,Inl = sym.symbols(['I_{body}','I_{leg}']) # moment of intertia\n",
    "\n",
    "x,z,thLl,thRl,r = sym.symbols(['x','z','\\\\theta_{Lleg}','\\\\theta_{Rleg}','r'])\n",
    "dx,dz,dthLl,dthRl,dr = sym.symbols(['\\dot{x}','\\dot{z}','\\dot{\\\\theta}_{Lleg}','\\dot{\\\\theta}_{Rleg}','\\dot{r}']) \n",
    "ddx,ddz,ddthLl,ddthRl,ddr = sym.symbols(['\\ddot{x}','\\ddot{z}','\\ddot{\\\\theta}_{Lleg}','\\ddot{\\\\theta}_{Rleg}','\\ddot{r}'])\n",
    "\n",
    "q = sym.Matrix([[x],[z],[thLl],[thRl],[r]])\n",
    "dq = sym.Matrix([[dx],[dz],[dthLl],[dthRl],[dr]])\n",
    "ddq = sym.Matrix([[ddx],[ddz],[ddthLl],[ddthRl],[ddr]])\n",
    "\n",
    "# forces\n",
    "F,tau,GRFx,GRFz = sym.symbols(['F','\\\\tau','G_x','G_z']) \n",
    "print('Yeet')"
   ]
  },
  {
   "cell_type": "code",
   "execution_count": 4,
   "metadata": {},
   "outputs": [
    {
     "name": "stdout",
     "output_type": "stream",
     "text": [
      "Done\n"
     ]
    }
   ],
   "source": [
    "# STEP 1: position vector (COM of each link), as well as other required positions. \n",
    "rb = sym.Matrix([[x],\n",
    "                [z]])\n",
    "\n",
    "rLl = sym.Matrix([[x + (0.5*r)*sym.cos(thLl)],\n",
    "                 [z - (0.5*r)*sym.sin(thLl)]])\n",
    "rRl = sym.Matrix([[x + (0.5*r)*sym.cos(thRl)],\n",
    "                 [z - (0.5*r)*sym.sin(thRl)]])\n",
    "\n",
    "\n",
    "footLx = sym.Matrix([x + r*sym.cos(thLl)])\n",
    "footLz = sym.Matrix([z - r*sym.sin(thLl)]) \n",
    "footLz = footLz[0].simplify()\n",
    "footL_pos= sym.Matrix([[footLx],[0],[footLz]])\n",
    "\n",
    "footRx = sym.Matrix([x + r*sym.cos(thRl)])\n",
    "footRz = sym.Matrix([z - r*sym.sin(thRl)]) \n",
    "footRz = footRz[0].simplify()\n",
    "footR_pos= sym.Matrix([[footRx],[0],[footRz]])\n",
    "print('Done')"
   ]
  },
  {
   "cell_type": "code",
   "execution_count": 5,
   "metadata": {},
   "outputs": [
    {
     "name": "stdout",
     "output_type": "stream",
     "text": [
      "Done\n"
     ]
    }
   ],
   "source": [
    "# STEP 2: generate expressions for the system space velocities from the jacobians\n",
    "# the Jacobians\n",
    "Jb = rb.jacobian(q)\n",
    "JLl = rLl.jacobian(q)\n",
    "JRl = rRl.jacobian(q)\n",
    "\n",
    "vb = Jb*dq\n",
    "vLl = JLl*dq\n",
    "vRl = JRl*dq\n",
    "\n",
    "footLdx = footLx.jacobian(q)*dq #This is symbolic again, so it doesnt change with the collocation\n",
    "footLdx = footLdx[0].simplify()\n",
    "footRdx = footRx.jacobian(q)*dq #This is symbolic again, so it doesnt change with the collocation\n",
    "footRdx = footRdx[0].simplify()\n",
    "print('Done')"
   ]
  },
  {
   "cell_type": "code",
   "execution_count": 10,
   "metadata": {},
   "outputs": [
    {
     "name": "stdout",
     "output_type": "stream",
     "text": [
      "Done\n"
     ]
    }
   ],
   "source": [
    "# STEP 3: generate expressions for the kinetic and potential energy\n",
    "# mass vectors\n",
    "Mb = sym.Matrix([[mb,mb]]) # Mass matrix of body\n",
    "Ml = sym.Matrix([[ml,ml]]) # Mass matrix of leg(s)\n",
    "\n",
    "Ib=sym.Matrix([[Inb]]) # Inertia matrix of body\n",
    "Il=sym.Matrix([[Inl]]) # Inertia matrix of leg(s)\n",
    "\n",
    "WLl=sym.Matrix([[dthLl]]) # Angular volocity of left-leg\n",
    "WRl=sym.Matrix([[dthRl]]) # Angular volocity of right-leg\n",
    "\n",
    "# linear kinetic energy:\n",
    "T1 = 0.5*Mb*sym.matrix_multiply_elementwise(vb,vb) + 0.5*Ml*sym.matrix_multiply_elementwise(vLl,vLl) + 0.5*Ml*sym.matrix_multiply_elementwise(vRl,vRl)\n",
    "# angular kinetic energy:\n",
    "# this should be a 3*3 matrix of MOI and a vector of angular vel... w'*MOI*w\n",
    "T2 =  0.5*Il*sym.matrix_multiply_elementwise(WLl,WLl) + 0.5*Il*sym.matrix_multiply_elementwise(WRl,WRl) \n",
    "\n",
    "T = sym.Matrix([T1[0]])+sym.Matrix([T2[0]])\n",
    "# potential energy\n",
    "V = mb*g*rb[1] + ml*g*rLl[1] + ml*g*rRl[1]\n",
    "print('Done')"
   ]
  },
  {
   "cell_type": "code",
   "execution_count": null,
   "metadata": {},
   "outputs": [],
   "source": []
  }
 ],
 "metadata": {
  "kernelspec": {
   "display_name": "Python 3",
   "language": "python",
   "name": "python3"
  },
  "language_info": {
   "codemirror_mode": {
    "name": "ipython",
    "version": 3
   },
   "file_extension": ".py",
   "mimetype": "text/x-python",
   "name": "python",
   "nbconvert_exporter": "python",
   "pygments_lexer": "ipython3",
   "version": "3.8.5"
  }
 },
 "nbformat": 4,
 "nbformat_minor": 5
}
