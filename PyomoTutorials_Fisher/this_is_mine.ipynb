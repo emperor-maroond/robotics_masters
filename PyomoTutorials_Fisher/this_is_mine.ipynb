{
 "cells": [
  {
   "cell_type": "code",
   "execution_count": 1,
   "id": "senior-vaccine",
   "metadata": {},
   "outputs": [],
   "source": [
    "#%reset\n",
    "# import libraries\n",
    "import sympy as sym\n",
    "import numpy as np\n",
    "from pyomo.environ import*\n",
    "from pyomo.opt import SolverFactory\n",
    "from pyomo.opt import SolverStatus, TerminationCondition\n",
    "\n",
    "#sym.init_printing()\n",
    "from IPython.display import display"
   ]
  },
  {
   "cell_type": "code",
   "execution_count": 2,
   "id": "interracial-mercury",
   "metadata": {},
   "outputs": [
    {
     "name": "stdout",
     "output_type": "stream",
     "text": [
      "Yeet\n"
     ]
    }
   ],
   "source": [
    "# rerun from here if you don't want to calculate the EOM's again\n",
    "if 'm' in globals():\n",
    "    del m # deletes the model\n",
    "m = ConcreteModel() # create model using pyomo\n",
    "N = 25 # number of nodes (much like samples used between a certain time period)\n",
    "hm=0.5/N # Scaling factor for time-step\n",
    "m.N = RangeSet(N) \n",
    "m.damping=20\n",
    "\n",
    "mass_b=2 # Mass of the base\n",
    "mass_l=1 # Mass of the links\n",
    "len_b=0.3 # Length of the base\n",
    "m.l_min=0.2 # Links min length\n",
    "m.l_max=len_b # Links max length\n",
    "m.F_max=160 # Maximum force that can be applied\n",
    "m.t_max=12 # Maximum torque\n",
    "m.w_max=44 # Max angular velocity (omega)\n",
    "m.dl_max=3\n",
    "m.distance=5\n",
    "\n",
    "print('Yeet')"
   ]
  },
  {
   "cell_type": "code",
   "execution_count": 3,
   "id": "varied-hudson",
   "metadata": {},
   "outputs": [
    {
     "name": "stdout",
     "output_type": "stream",
     "text": [
      "Yeet\n"
     ]
    }
   ],
   "source": [
    "# create symbolic variables\n",
    "g = sym.symbols('g')\n",
    "mb,ml = sym.symbols(['m_{body}','m_{leg}']) # mass\n",
    "lb = sym.symbols(['l_{body}']) # length\n",
    "ll = sym.symbols(['l_{leg}'])\n",
    "Inb,Inl = sym.symbols(['I_{body}','I_{leg}']) # moment of intertia\n",
    "\n",
    "x,z,thLl,thRl,rL,rR = sym.symbols(['x','z','\\\\theta_{Lleg}','\\\\theta_{Rleg}','r_{left}','r_{right}'])\n",
    "dx,dz,dthLl,dthRl,drL,drR = sym.symbols(['\\dot{x}','\\dot{z}','\\dot{\\\\theta}_{Lleg}','\\dot{\\\\theta}_{Rleg}','\\dot{r}_{left}','\\dot{r}_{right}']) \n",
    "ddx,ddz,ddthLl,ddthRl,ddrL,ddrR = sym.symbols(['\\ddot{x}','\\ddot{z}','\\ddot{\\\\theta}_{Lleg}','\\ddot{\\\\theta}_{Rleg}','\\ddot{r}_{left}','\\ddot{r}_{right}'])\n",
    "\n",
    "q = sym.Matrix([[x],[z],[thLl],[thRl],[rL],[rR]])\n",
    "dq = sym.Matrix([[dx],[dz],[dthLl],[dthRl],[drL],[drR]])\n",
    "ddq = sym.Matrix([[ddx],[ddz],[ddthLl],[ddthRl],[ddrL],[ddrR]])\n",
    "\n",
    "# forces\n",
    "FL,FR,tauL,tauR,GRFx,GRFz = sym.symbols(['F_{left}','F_{right}','\\\\tau_{left}','\\\\tau_{right}','G_x','G_z']) \n",
    "print('Yeet')"
   ]
  },
  {
   "cell_type": "markdown",
   "id": "liquid-defeat",
   "metadata": {},
   "source": [
    "## EoM generaion"
   ]
  },
  {
   "cell_type": "code",
   "execution_count": 4,
   "id": "bridal-certificate",
   "metadata": {},
   "outputs": [
    {
     "name": "stdout",
     "output_type": "stream",
     "text": [
      "Done\n"
     ]
    }
   ],
   "source": [
    "# STEP 1: position vector (COM of each link), as well as other required positions. \n",
    "rb = sym.Matrix([[x],\n",
    "                [z]])\n",
    "\n",
    "rLl = sym.Matrix([[x + (0.5*rL)*sym.cos(thLl)],\n",
    "                 [z - (0.5*rL)*sym.sin(thLl)]])\n",
    "rRl = sym.Matrix([[x + (0.5*rR)*sym.cos(thRl)],\n",
    "                 [z - (0.5*rR)*sym.sin(thRl)]])\n",
    "\n",
    "\n",
    "footLx = sym.Matrix([x + rL*sym.cos(thLl)])\n",
    "footLz = sym.Matrix([z - rL*sym.sin(thLl)]) \n",
    "footLz = footLz[0].simplify()\n",
    "footL_pos= sym.Matrix([[footLx],[0],[footLz]])\n",
    "\n",
    "footRx = sym.Matrix([x + rR*sym.cos(thRl)])\n",
    "footRz = sym.Matrix([z - rR*sym.sin(thRl)]) \n",
    "footRz = footRz[0].simplify()\n",
    "footR_pos= sym.Matrix([[footRx],[0],[footRz]])\n",
    "print('Done')"
   ]
  },
  {
   "cell_type": "code",
   "execution_count": 5,
   "id": "challenging-modem",
   "metadata": {},
   "outputs": [
    {
     "name": "stdout",
     "output_type": "stream",
     "text": [
      "Done\n"
     ]
    }
   ],
   "source": [
    "# STEP 2: generate expressions for the system space velocities from the jacobians\n",
    "# the Jacobians\n",
    "Jb = rb.jacobian(q)\n",
    "JLl = rLl.jacobian(q)\n",
    "JRl = rRl.jacobian(q)\n",
    "\n",
    "vb = Jb*dq\n",
    "vLl = JLl*dq\n",
    "vRl = JRl*dq\n",
    "\n",
    "footLdx = footLx.jacobian(q)*dq #This is symbolic again, so it doesnt change with the collocation\n",
    "footLdx = footLdx[0].simplify()\n",
    "footRdx = footRx.jacobian(q)*dq #This is symbolic again, so it doesnt change with the collocation\n",
    "footRdx = footRdx[0].simplify()\n",
    "print('Done')"
   ]
  },
  {
   "cell_type": "code",
   "execution_count": 6,
   "id": "tribal-thanks",
   "metadata": {},
   "outputs": [
    {
     "name": "stdout",
     "output_type": "stream",
     "text": [
      "Done\n"
     ]
    }
   ],
   "source": [
    "# STEP 3: generate expressions for the kinetic and potential energy\n",
    "# mass vectors\n",
    "Mb = sym.Matrix([[mb,mb]]) # Mass matrix of body\n",
    "Ml = sym.Matrix([[ml,ml]]) # Mass matrix of leg(s)\n",
    "\n",
    "Ib=sym.Matrix([[Inb]]) # Inertia matrix of body\n",
    "Il=sym.Matrix([[Inl]]) # Inertia matrix of leg(s)\n",
    "\n",
    "WLl=sym.Matrix([[dthLl]]) # Angular volocity of left-leg\n",
    "WRl=sym.Matrix([[dthRl]]) # Angular volocity of right-leg\n",
    "\n",
    "# linear kinetic energy:\n",
    "T1 = 0.5*Mb*sym.matrix_multiply_elementwise(vb,vb) + 0.5*Ml*sym.matrix_multiply_elementwise(vLl,vLl) + 0.5*Ml*sym.matrix_multiply_elementwise(vRl,vRl)\n",
    "# angular kinetic energy:\n",
    "# this should be a 3*3 matrix of MOI and a vector of angular vel... w'*MOI*w\n",
    "T2 =  0.5*Il*sym.matrix_multiply_elementwise(WLl,WLl) + 0.5*Il*sym.matrix_multiply_elementwise(WRl,WRl) \n",
    "\n",
    "T = sym.Matrix([T1[0]])+sym.Matrix([T2[0]])\n",
    "# potential energy\n",
    "V = mb*g*rb[1] + ml*g*rLl[1] + ml*g*rRl[1]\n",
    "print('Done')"
   ]
  },
  {
   "cell_type": "code",
   "execution_count": 7,
   "id": "rural-screen",
   "metadata": {},
   "outputs": [
    {
     "name": "stdout",
     "output_type": "stream",
     "text": [
      "Done\n"
     ]
    }
   ],
   "source": [
    "M=T.jacobian(dq)\n",
    "M=M.transpose()\n",
    "M=M.jacobian(dq)              \n",
    "\n",
    "C  = sym.zeros(len(q),len(q))                                                         \n",
    "for i in range(len(q)):                                             \n",
    "    for j in range(len(q)):\n",
    "        for n in range(len(q)):\n",
    "            C[i,j] = C[i,j]+ 0.5*(sym.diff(M[i,j],q[n]) + sym.diff(M[i,n],q[j]) - sym.diff(M[j,n],q[i]))*dq[n];\n",
    "\n",
    "G  = sym.zeros(len(q),1)                                         \n",
    "for i in range(len(q)):\n",
    "    G[i] = sym.diff(V,q[i]);       \n",
    "\n",
    "JL = footL_pos.jacobian(q)\n",
    "GRFL_l = JL.transpose()*sym.Matrix([[GRFx],[0],[GRFz]])\n",
    "JR = footR_pos.jacobian(q)\n",
    "GRFR_l = JR.transpose()*sym.Matrix([[GRFx],[0],[GRFz]])\n",
    "\n",
    "Q = sym.zeros(len(q),1)\n",
    "Q[0]=0                 #X\n",
    "Q[1]=0                 #Z\n",
    "Q[2]=tauL              #thRl\n",
    "Q[3]=tauR              #thLl\n",
    "Q[4]=FL-drL*m.damping  #rL\n",
    "Q[5]=FR-drR*m.damping  #rR\n",
    "           \n",
    "EOM=M*ddq+C*dq+G-Q-GRFL_l-GRFR_l\n",
    "\n",
    "EOMs = sym.zeros(len(q),1)\n",
    "for j in range(len(q)):\n",
    "    EOMs[j] = EOM[j].simplify()\n",
    "    \n",
    "print('Done')"
   ]
  },
  {
   "cell_type": "markdown",
   "id": "hired-occurrence",
   "metadata": {},
   "source": [
    "## Lambdify"
   ]
  },
  {
   "cell_type": "code",
   "execution_count": 8,
   "id": "collaborative-cover",
   "metadata": {},
   "outputs": [
    {
     "name": "stdout",
     "output_type": "stream",
     "text": [
      "Done\n"
     ]
    }
   ],
   "source": [
    "# Lambdify\n",
    "\n",
    "\n",
    "func_map = {'sin':sin, 'cos':cos} \n",
    "\n",
    "sym_list = [g,mb,ml,lb,ll,Inb,Inl,\n",
    "            x,z,thLl,thRl,rL,rR,\n",
    "            dx,dz,dthLl,dthRl,drL,drR,\n",
    "            ddx,ddz,ddthLl,ddthRl,ddrL,ddrR,\n",
    "            FL,FR,tauL,tauR,GRFx,GRFz]\n",
    "            \n",
    "lambEOM_x = sym.lambdify(sym_list,EOMs[0],modules = [func_map])\n",
    "lambEOM_z = sym.lambdify(sym_list,EOMs[1],modules = [func_map]) # Should be the z-direction but fixing this will take effort\n",
    "lambEOM_thLl = sym.lambdify(sym_list,EOMs[2],modules = [func_map])\n",
    "lambEOM_thRl = sym.lambdify(sym_list,EOMs[3],modules = [func_map])\n",
    "lambEOM_rL = sym.lambdify(sym_list,EOMs[4],modules = [func_map])\n",
    "lambEOM_rR = sym.lambdify(sym_list,EOMs[5],modules = [func_map])\n",
    "\n",
    "lamb_footLz = sym.lambdify(sym_list,footLz,modules = [func_map])\n",
    "lamb_footLdx = sym.lambdify(sym_list,footLdx,modules = [func_map])\n",
    "lamb_footRz = sym.lambdify(sym_list,footRz,modules = [func_map])\n",
    "lamb_footRdx = sym.lambdify(sym_list,footRdx,modules = [func_map])\n",
    "\n",
    "print('Done')"
   ]
  },
  {
   "cell_type": "markdown",
   "id": "expensive-rochester",
   "metadata": {},
   "source": [
    "## Trajectory optimization"
   ]
  },
  {
   "cell_type": "code",
   "execution_count": 9,
   "id": "engaged-lobby",
   "metadata": {},
   "outputs": [
    {
     "name": "stdout",
     "output_type": "stream",
     "text": [
      "Done\n"
     ]
    }
   ],
   "source": [
    "# Variables\n",
    "cN = 3\n",
    "m.cN =RangeSet(cN)\n",
    "\n",
    "links = [('body',1),('leg',1), ('leg',2)]\n",
    "m.L = Set(dimen=2, initialize=links)\n",
    "\n",
    "DOFs = ['x','z','theta_Ll','theta_Rl','rL','rR'] # generalized coordinates\n",
    "m.DOF = Set(initialize = DOFs) \n",
    "\n",
    "# system coordinates\n",
    "m.q = Var(m.N, m.cN, m.DOF) # position\n",
    "m.dq = Var(m.N, m.cN, m.DOF) # velocity\n",
    "m.ddq = Var(m.N, m.cN, m.DOF) # acceleration\n",
    "\n",
    "m.q0 = Var(m.N, m.DOF) # position\n",
    "m.dq0 = Var(m.N, m.DOF) # velocity\n",
    "\n",
    "m.tt = Var(m.N, m.cN)\n",
    "m.tt0 = Var(m.N)\n",
    "\n",
    "\n",
    "m.h = Var(m.N, bounds =(0.1,2.0))\n",
    "\n",
    "a = [[0.19681547722366, 0.39442431473909, 0.37640306270047],\n",
    "     [-0.06553542585020, 0.29207341166523, 0.51248582618842],\n",
    "     [0.02377097434822, -0.04154875212600, 0.11111111111111]]\n",
    "print('Done')"
   ]
  },
  {
   "cell_type": "code",
   "execution_count": 10,
   "id": "possible-nicaragua",
   "metadata": {},
   "outputs": [
    {
     "name": "stdout",
     "output_type": "stream",
     "text": [
      "Done\n"
     ]
    }
   ],
   "source": [
    "# PARAMETERS-----------------------------------------------------------------------------------------------------------------\n",
    "m.g = Param(initialize = 9.81)\n",
    "pi=sym.pi\n",
    "\n",
    "m.mb = Param(initialize = mass_b)\n",
    "m.ml = Param(initialize = mass_l)\n",
    "m.lb = Param(initialize = len_b)\n",
    "m.ll = Param(initialize = len_b)\n",
    "\n",
    "m.Inb= Param(initialize = m.mb.value*m.lb.value**2/12)   \n",
    "m.Inl= Param(initialize = m.ml.value*m.lb.value**2/12)  ##############################m.ml.value*m.q[m.n,m.cN,'r']**2/12\n",
    "\n",
    "mbody = mass_b+2*mass_l\n",
    "BW = mbody*m.g.value\n",
    "\n",
    "print('Done')"
   ]
  },
  {
   "cell_type": "markdown",
   "id": "computational-bottle",
   "metadata": {},
   "source": [
    "#### Collocation constraints"
   ]
  },
  {
   "cell_type": "code",
   "execution_count": 11,
   "id": "described-prefix",
   "metadata": {},
   "outputs": [
    {
     "name": "stdout",
     "output_type": "stream",
     "text": [
      "Done\n"
     ]
    }
   ],
   "source": [
    "def ContConstraint_p (m, n, dof):\n",
    "    if n > 1:\n",
    "        return m.q0[n,dof] == m.q[n-1,3,dof]\n",
    "    else:\n",
    "        return Constraint.Skip\n",
    "m.ContConstraint_p = Constraint(m.N, m.DOF, rule = ContConstraint_p)\n",
    "def ContConstraint_v (m, n, dof):\n",
    "    if n > 1:\n",
    "        return m.dq0[n,dof] == m.dq[n-1,3,dof]\n",
    "    else:\n",
    "        return Constraint.Skip\n",
    "m.ContConstraint_v = Constraint(m.N, m.DOF, rule = ContConstraint_v)\n",
    "def ContConstraint_tt (m, n):\n",
    "    if n > 1:\n",
    "        return m.tt0[n] == m.tt[n-1,3]\n",
    "    else:\n",
    "        return Constraint.Skip\n",
    "m.ContConstraint_tt = Constraint(m.N, rule = ContConstraint_tt)\n",
    "print('Done')"
   ]
  },
  {
   "cell_type": "markdown",
   "id": "passive-thinking",
   "metadata": {},
   "source": [
    "#### Intergration"
   ]
  },
  {
   "cell_type": "code",
   "execution_count": 12,
   "id": "reliable-wireless",
   "metadata": {},
   "outputs": [
    {
     "name": "stdout",
     "output_type": "stream",
     "text": [
      "Done\n"
     ]
    }
   ],
   "source": [
    "def integrate_p(m, n, c, dof): # for positions\n",
    "    if n > 0:\n",
    "        return m.q[n,c,dof] == m.q0[n, dof] + hm*m.h[n]*(a[0][c-1]*m.dq[n,1,dof] \\\n",
    "                                                         +a[1][c-1]*m.dq[n,2,dof] \\\n",
    "                                                         +a[2][c-1]*m.dq[n,3,dof])\n",
    "    else:\n",
    "        return Constraint.Skip #use this to leave out members of a set that the constraint doesn't apply to\n",
    "m.integrate_p = Constraint(m.N, m.cN, m.DOF, rule = integrate_p)\n",
    "def integrate_v(m,n,c,dof): # for velocities\n",
    "    if n > 0:\n",
    "        return m.dq[n,c,dof] == m.dq0[n, dof] + hm*m.h[n]*(a[0][c-1]*m.ddq[n,1,dof] \\\n",
    "                                                           +a[1][c-1]*m.ddq[n,2,dof] \\\n",
    "                                                           +a[2][c-1]*m.ddq[n,3,dof])\n",
    "    else:\n",
    "        return Constraint.Skip \n",
    "m.integrate_v = Constraint(m.N, m.cN, m.DOF, rule = integrate_v)\n",
    "def integrate_tt(m,n,c): # for time \n",
    "    if n > 0:\n",
    "        return m.tt[n,c] == m.tt0[n] + hm*m.h[n]*(a[0][c-1]+a[1][c-1]+a[2][c-1])\n",
    "    else:\n",
    "        return Constraint.Skip \n",
    "m.integrate_tt = Constraint(m.N, m.cN, rule = integrate_tt)\n",
    "print('Done')"
   ]
  },
  {
   "cell_type": "markdown",
   "id": "welsh-valuable",
   "metadata": {},
   "source": [
    "#### GRF"
   ]
  },
  {
   "cell_type": "code",
   "execution_count": 13,
   "id": "based-hypothetical",
   "metadata": {},
   "outputs": [
    {
     "name": "stdout",
     "output_type": "stream",
     "text": [
      "Done\n"
     ]
    }
   ],
   "source": [
    "signs = ['ps', 'ng']\n",
    "m.sgn = Set(initialize = ['ps', 'ng'])\n",
    "WDOFs = ['X', 'Z','THETA1']\n",
    "m.WDOF = Set(initialize=WDOFs) #change the coordinates\n",
    "m.GRF = Var(m.N, m.cN, m.WDOF, m.sgn, bounds = (0.0,None)) # should bound it to 10*m_robot*g\n",
    "m.eps = Param(initialize=1000.0, mutable=True)\n",
    "m.mu = Param(initialize =1.00)\n",
    "print('Done')"
   ]
  },
  {
   "cell_type": "code",
   "execution_count": 14,
   "id": "certified-validity",
   "metadata": {},
   "outputs": [
    {
     "name": "stdout",
     "output_type": "stream",
     "text": [
      "Done\n"
     ]
    }
   ],
   "source": [
    "# SLACK VARIABLES\n",
    "m.a_contact_1  = Var(m.N, m.cN, bounds = (0.0,None)) \n",
    "m.b_contact_1  = Var(m.N, m.cN, bounds = (0.0,None)) \n",
    "m.a_friction_1 = Var(m.N, m.cN, bounds = (0.0,None)) \n",
    "m.b_friction_1 = Var(m.N, m.cN, bounds = (0.0,None)) \n",
    "m.a_slip_p_1   = Var(m.N, m.cN, bounds = (0.0,None)) \n",
    "m.b_slip_p_1   = Var(m.N, m.cN, bounds = (0.0,None)) \n",
    "m.a_slip_n_1   = Var(m.N, m.cN, bounds = (0.0,None)) \n",
    "m.b_slip_n_1   = Var(m.N, m.cN, bounds = (0.0,None)) \n",
    "m.gamma_1      = Var(m.N, m.cN, bounds = (0.0,None))\n",
    "\n",
    "###############################################################################################3\n",
    "\n",
    "m.a_contact_2  = Var(m.N, m.cN, bounds = (0.0,None)) \n",
    "m.b_contact_2  = Var(m.N, m.cN, bounds = (0.0,None)) \n",
    "m.a_friction_2 = Var(m.N, m.cN, bounds = (0.0,None)) \n",
    "m.b_friction_2 = Var(m.N, m.cN, bounds = (0.0,None)) \n",
    "m.a_slip_p_2   = Var(m.N, m.cN, bounds = (0.0,None)) \n",
    "m.b_slip_p_2   = Var(m.N, m.cN, bounds = (0.0,None)) \n",
    "m.a_slip_n_2   = Var(m.N, m.cN, bounds = (0.0,None)) \n",
    "m.b_slip_n_2   = Var(m.N, m.cN, bounds = (0.0,None)) \n",
    "m.gamma_2      = Var(m.N, m.cN, bounds = (0.0,None))\n",
    "print('Done')"
   ]
  },
  {
   "cell_type": "code",
   "execution_count": 15,
   "id": "intense-rocket",
   "metadata": {},
   "outputs": [
    {
     "name": "stdout",
     "output_type": "stream",
     "text": [
      "Done\n"
     ]
    }
   ],
   "source": [
    "# CONTACT\n",
    "def def_a_contact_1(m,n,c):   \n",
    "        var_list = [m.g,m.mb,m.ml,\n",
    "            m.lb,m.ll,\n",
    "            m.Inb,m.Inl,\n",
    "            m.q[n,c,'x'],m.q[n,c,'z'],m.q[n,c,'theta_Ll'],m.q[n,c,'theta_Rl'],m.q[n,c,'rL'],m.q[n,c,'rR'],\n",
    "            m.dq[n,c,'x'],m.dq[n,c,'z'],m.dq[n,c,'theta_Ll'],m.dq[n,c,'theta_Rl'],m.dq[n,c,'rL'],m.dq[n,c,'rR'],\n",
    "            m.ddq[n,c,'x'],m.ddq[n,c,'z'],m.ddq[n,c,'theta_Ll'],m.ddq[n,c,'theta_Rl'],m.ddq[n,c,'rL'],m.ddq[n,c,'rR'],\n",
    "            0,0,0,0,0,0]\n",
    "        return m.a_contact_1[n,c] == lamb_footLz(*var_list)\n",
    "m.def_a_contact_1 = Constraint(m.N, m.cN, rule = def_a_contact_1)\n",
    "def def_b_contact_1(m,n,c):   \n",
    "    return m.b_contact_1[n,c] == m.GRF[n,c,'Z','ps']\n",
    "m.def_b_contact_1 = Constraint(m.N, m.cN, rule = def_b_contact_1)\n",
    "\n",
    "##################################################################################################\n",
    "\n",
    "def def_a_contact_2(m,n,c):   \n",
    "        var_list = [m.g,m.mb,m.ml,\n",
    "            m.lb,m.ll,\n",
    "            m.Inb,m.Inl,\n",
    "            m.q[n,c,'x'],m.q[n,c,'z'],m.q[n,c,'theta_Ll'],m.q[n,c,'theta_Rl'],m.q[n,c,'rL'],m.q[n,c,'rR'],\n",
    "            m.dq[n,c,'x'],m.dq[n,c,'z'],m.dq[n,c,'theta_Ll'],m.dq[n,c,'theta_Rl'],m.dq[n,c,'rL'],m.dq[n,c,'rR'],\n",
    "            m.ddq[n,c,'x'],m.ddq[n,c,'z'],m.ddq[n,c,'theta_Ll'],m.ddq[n,c,'theta_Rl'],m.ddq[n,c,'rL'],m.ddq[n,c,'rR'],\n",
    "            0,0,0,0,0,0]\n",
    "        return m.a_contact_2[n,c] == lamb_footRz(*var_list)\n",
    "m.def_a_contact_2 = Constraint(m.N, m.cN, rule = def_a_contact_2)\n",
    "def def_b_contact_2(m,n,c):   \n",
    "    return m.b_contact_2[n,c] == m.GRF[n,c,'Z','ps']\n",
    "m.def_b_contact_2 = Constraint(m.N, m.cN, rule = def_b_contact_2)\n",
    "\n",
    "print('Done')"
   ]
  },
  {
   "cell_type": "code",
   "execution_count": 16,
   "id": "outdoor-administrator",
   "metadata": {},
   "outputs": [
    {
     "name": "stdout",
     "output_type": "stream",
     "text": [
      "Done\n"
     ]
    }
   ],
   "source": [
    "# FRICTION CONE\n",
    "def def_a_friction_1(m,n,c):   \n",
    "    return m.a_friction_1[n,c] == m.mu*m.GRF[n,c,'Z','ps'] - (m.GRF[n,c,'X','ps'] + m.GRF[n,c,'X','ng'])\n",
    "m.def_a_friction_1 = Constraint(m.N, m.cN, rule = def_a_friction_1)\n",
    "def def_b_friction_1(m,n,c):   \n",
    "    return m.b_friction_1[n,c] == m.gamma_1[n,c]\n",
    "m.def_b_friction_1 = Constraint(m.N, m.cN, rule = def_b_friction_1)\n",
    "\n",
    "##################################################################################################\n",
    "\n",
    "def def_a_friction_2(m,n,c):   \n",
    "    return m.a_friction_2[n,c] == m.mu*m.GRF[n,c,'Z','ps'] - (m.GRF[n,c,'X','ps'] + m.GRF[n,c,'X','ng'])\n",
    "m.def_a_friction_2 = Constraint(m.N, m.cN, rule = def_a_friction_2)\n",
    "def def_b_friction_2(m,n,c):   \n",
    "    return m.b_friction_2[n,c] == m.gamma_2[n,c]\n",
    "m.def_b_friction_2 = Constraint(m.N, m.cN, rule = def_b_friction_2)\n",
    "\n",
    "print('Done')"
   ]
  },
  {
   "cell_type": "code",
   "execution_count": 17,
   "id": "close-engineer",
   "metadata": {},
   "outputs": [
    {
     "name": "stdout",
     "output_type": "stream",
     "text": [
      "Done\n"
     ]
    }
   ],
   "source": [
    "def def_contact_1_pr(m,n):\n",
    "    a_contact_1_pr = m.a_contact_1[n,1] + m.a_contact_1[n,2] + m.a_contact_1[n,3] \n",
    "    b_contact_1_pr = m.b_contact_1[n,1] + m.b_contact_1[n,2] + m.b_contact_1[n,3]  \n",
    "    return a_contact_1_pr*b_contact_1_pr <= m.eps\n",
    "m.def_contact_1_pr = Constraint(m.N, rule = def_contact_1_pr)\n",
    "\n",
    "def def_friction_1_pr(m,n):\n",
    "    a_friction_1_pr = m.a_friction_1[n,1] + m.a_friction_1[n,2] + m.a_friction_1[n,3] \n",
    "    b_friction_1_pr = m.b_friction_1[n,1] + m.b_friction_1[n,2] + m.b_friction_1[n,3]  \n",
    "    return a_friction_1_pr*b_friction_1_pr <= m.eps\n",
    "m.def_friction_1_pr = Constraint(m.N, rule = def_friction_1_pr)\n",
    "\n",
    "def def_slip_p_1_pr(m,n):\n",
    "    a_slip_p_1_pr = m.a_slip_p_1[n,1] + m.a_slip_p_1[n,2] + m.a_slip_p_1[n,3] \n",
    "    b_slip_p_1_pr = m.b_slip_p_1[n,1] + m.b_slip_p_1[n,2] + m.b_slip_p_1[n,3]  \n",
    "    return a_slip_p_1_pr*b_slip_p_1_pr <= m.eps\n",
    "m.def_slip_p_1_pr = Constraint(m.N, rule = def_slip_p_1_pr)\n",
    "\n",
    "def def_slip_n_1_pr(m,n):\n",
    "    a_slip_n_1_pr = m.a_slip_n_1[n,1] + m.a_slip_n_1[n,2] + m.a_slip_n_1[n,3] \n",
    "    b_slip_n_1_pr = m.b_slip_n_1[n,1] + m.b_slip_n_1[n,2] + m.b_slip_n_1[n,3]  \n",
    "    return a_slip_n_1_pr*b_slip_n_1_pr <= m.eps\n",
    "m.def_slip_n_1_pr = Constraint(m.N, rule = def_slip_n_1_pr)\n",
    "\n",
    "###########################################################################################\n",
    "\n",
    "def def_contact_2_pr(m,n):\n",
    "    a_contact_2_pr = m.a_contact_2[n,1] + m.a_contact_2[n,2] + m.a_contact_2[n,3] \n",
    "    b_contact_2_pr = m.b_contact_2[n,1] + m.b_contact_2[n,2] + m.b_contact_2[n,3]  \n",
    "    return a_contact_2_pr*b_contact_2_pr <= m.eps\n",
    "m.def_contact_2_pr = Constraint(m.N, rule = def_contact_2_pr)\n",
    "\n",
    "def def_friction_2_pr(m,n):\n",
    "    a_friction_2_pr = m.a_friction_2[n,1] + m.a_friction_2[n,2] + m.a_friction_2[n,3] \n",
    "    b_friction_2_pr = m.b_friction_2[n,1] + m.b_friction_2[n,2] + m.b_friction_2[n,3]  \n",
    "    return a_friction_2_pr*b_friction_2_pr <= m.eps\n",
    "m.def_friction_2_pr = Constraint(m.N, rule = def_friction_2_pr)\n",
    "\n",
    "def def_slip_p_2_pr(m,n):\n",
    "    a_slip_p_2_pr = m.a_slip_p_2[n,1] + m.a_slip_p_2[n,2] + m.a_slip_p_2[n,3] \n",
    "    b_slip_p_2_pr = m.b_slip_p_2[n,1] + m.b_slip_p_2[n,2] + m.b_slip_p_2[n,3]  \n",
    "    return a_slip_p_2_pr*b_slip_p_2_pr <= m.eps\n",
    "m.def_slip_p_2_pr = Constraint(m.N, rule = def_slip_p_2_pr)\n",
    "\n",
    "def def_slip_n_2_pr(m,n):\n",
    "    a_slip_n_2_pr = m.a_slip_n_2[n,1] + m.a_slip_n_2[n,2] + m.a_slip_n_2[n,3] \n",
    "    b_slip_n_2_pr = m.b_slip_n_2[n,1] + m.b_slip_n_2[n,2] + m.b_slip_n_2[n,3]  \n",
    "    return a_slip_n_2_pr*b_slip_n_2_pr <= m.eps\n",
    "m.def_slip_n_2_pr = Constraint(m.N, rule = def_slip_n_2_pr)\n",
    "\n",
    "print('Done')"
   ]
  },
  {
   "cell_type": "markdown",
   "id": "polyphonic-grace",
   "metadata": {},
   "source": [
    "#### Motor Model"
   ]
  },
  {
   "cell_type": "code",
   "execution_count": 18,
   "id": "verified-soldier",
   "metadata": {},
   "outputs": [
    {
     "name": "stdout",
     "output_type": "stream",
     "text": [
      "Done\n"
     ]
    }
   ],
   "source": [
    "m.tauL_a = Var(m.N, bounds = (-m.t_max,m.t_max)) # actuator torque at hip\n",
    "m.FL_a = Var(m.N, bounds = (-m.F_max,m.F_max)) # actuator prismatic force\n",
    "\n",
    "def def_hip_motor_model_p_1(m,n):\n",
    "    return  m.tauL_a[n] <= m.t_max-m.t_max/m.w_max*(m.dq0[n,'theta_Ll'])\n",
    "m.def_hip_motor_model_p_1 = Constraint(m.N, rule = def_hip_motor_model_p_1)\n",
    "def def_hip_motor_model_n_1(m,n):\n",
    "    return  m.tauL_a[n] >= -m.t_max-m.t_max/m.w_max*(m.dq0[n,'theta_Ll'])\n",
    "m.def_hip_motor_model_n_1 = Constraint(m.N, rule = def_hip_motor_model_n_1)\n",
    "\n",
    "#########################################################################################\n",
    "\n",
    "m.tauR_a = Var(m.N, bounds = (-m.t_max,m.t_max)) # actuator torque at hip\n",
    "m.FR_a = Var(m.N, bounds = (-m.F_max,m.F_max)) # actuator prismatic force\n",
    "\n",
    "def def_hip_motor_model_p_2(m,n):\n",
    "    return  m.tauR_a[n] <= m.t_max-m.t_max/m.w_max*(m.dq0[n,'theta_Rl'])\n",
    "m.def_hip_motor_model_p_2 = Constraint(m.N, rule = def_hip_motor_model_p_2)\n",
    "def def_hip_motor_model_n_2(m,n):\n",
    "    return  m.tauR_a[n] >= -m.t_max-m.t_max/m.w_max*(m.dq0[n,'theta_Rl'])\n",
    "m.def_hip_motor_model_n_2 = Constraint(m.N, rule = def_hip_motor_model_n_2)\n",
    "\n",
    "print('Done')"
   ]
  },
  {
   "cell_type": "markdown",
   "id": "attended-cooking",
   "metadata": {},
   "source": [
    "#### EoM Consraints"
   ]
  },
  {
   "cell_type": "code",
   "execution_count": 19,
   "id": "serial-document",
   "metadata": {},
   "outputs": [
    {
     "name": "stdout",
     "output_type": "stream",
     "text": [
      "Done\n"
     ]
    }
   ],
   "source": [
    "S=1.0 #BW/m.mTot    #Scaling factor, I avoid scaling the problem, others seem to think it works....\n",
    "\n",
    "def EOM_x(m,n,c):\n",
    "    FL_in = S*(m.FL_a[n])\n",
    "    tauL_in = S*(m.tauL_a[n])\n",
    "    FR_in = S*(m.FR_a[n])\n",
    "    tauR_in = S*(m.tauR_a[n])\n",
    "    Gx_in = S*(m.GRF[n,c,'X','ps']-m.GRF[n,c,'X','ng'])\n",
    "    Gz_in = S*(m.GRF[n,c,'Z','ps'])\n",
    "    \n",
    "    var_list = [m.g,m.mb,m.ml,\n",
    "            m.lb,m.ll,\n",
    "            m.Inb,m.Inl,\n",
    "            m.q[n,c,'x'],m.q[n,c,'z'],m.q[n,c,'theta_Ll'],m.q[n,c,'theta_Rl'],m.q[n,c,'rL'],m.q[n,c,'rR'],\n",
    "            m.dq[n,c,'x'],m.dq[n,c,'z'],m.dq[n,c,'theta_Ll'],m.dq[n,c,'theta_Rl'],m.dq[n,c,'rL'],m.dq[n,c,'rR'],\n",
    "            m.ddq[n,c,'x'],m.ddq[n,c,'z'],m.ddq[n,c,'theta_Ll'],m.ddq[n,c,'theta_Rl'],m.ddq[n,c,'rL'],m.ddq[n,c,'rR'],\n",
    "            FL_in,tauL_in,FR_in,tauR_in,Gx_in,Gz_in]\n",
    "    return lambEOM_x(*var_list) == 0\n",
    "m.EOM_x = Constraint(m.N, m.cN, rule = EOM_x)\n",
    "\n",
    "def EOM_z(m,n,c):\n",
    "    FL_in = S*(m.FL_a[n])\n",
    "    tauL_in = S*(m.tauL_a[n])\n",
    "    FR_in = S*(m.FR_a[n])\n",
    "    tauR_in = S*(m.tauR_a[n])\n",
    "    Gx_in = S*(m.GRF[n,c,'X','ps']-m.GRF[n,c,'X','ng'])\n",
    "    Gz_in = S*(m.GRF[n,c,'Z','ps'])\n",
    "    \n",
    "    var_list = [m.g,m.mb,m.ml,\n",
    "            m.lb,m.ll,\n",
    "            m.Inb,m.Inl,\n",
    "            m.q[n,c,'x'],m.q[n,c,'z'],m.q[n,c,'theta_Ll'],m.q[n,c,'theta_Rl'],m.q[n,c,'rL'],m.q[n,c,'rR'],\n",
    "            m.dq[n,c,'x'],m.dq[n,c,'z'],m.dq[n,c,'theta_Ll'],m.dq[n,c,'theta_Rl'],m.dq[n,c,'rL'],m.dq[n,c,'rR'],\n",
    "            m.ddq[n,c,'x'],m.ddq[n,c,'z'],m.ddq[n,c,'theta_Ll'],m.ddq[n,c,'theta_Rl'],m.ddq[n,c,'rL'],m.ddq[n,c,'rR'],\n",
    "            FL_in,tauL_in,FR_in,tauR_in,Gx_in,Gz_in]\n",
    "    return lambEOM_z(*var_list) == 0\n",
    "m.EOM_z = Constraint(m.N, m.cN, rule = EOM_z)\n",
    "\n",
    "def EOM_thLl(m,n,c):\n",
    "    FL_in = S*(m.FL_a[n])\n",
    "    tauL_in = S*(m.tauL_a[n])\n",
    "    FR_in = S*(m.FR_a[n])\n",
    "    tauR_in = S*(m.tauR_a[n])\n",
    "    Gx_in = S*(m.GRF[n,c,'X','ps']-m.GRF[n,c,'X','ng'])\n",
    "    Gz_in = S*(m.GRF[n,c,'Z','ps'])\n",
    "    \n",
    "    var_list = [m.g,m.mb,m.ml,\n",
    "            m.lb,m.ll,\n",
    "            m.Inb,m.Inl,\n",
    "            m.q[n,c,'x'],m.q[n,c,'z'],m.q[n,c,'theta_Ll'],m.q[n,c,'theta_Rl'],m.q[n,c,'rL'],m.q[n,c,'rR'],\n",
    "            m.dq[n,c,'x'],m.dq[n,c,'z'],m.dq[n,c,'theta_Ll'],m.dq[n,c,'theta_Rl'],m.dq[n,c,'rL'],m.dq[n,c,'rR'],\n",
    "            m.ddq[n,c,'x'],m.ddq[n,c,'z'],m.ddq[n,c,'theta_Ll'],m.ddq[n,c,'theta_Rl'],m.ddq[n,c,'rL'],m.ddq[n,c,'rR'],\n",
    "            FL_in,tauL_in,FR_in,tauR_in,Gx_in,Gz_in]\n",
    "    return lambEOM_thLl(*var_list) == 0\n",
    "m.EOM_thLl = Constraint(m.N, m.cN, rule = EOM_thLl)\n",
    "\n",
    "def EOM_thRl(m,n,c):\n",
    "    FL_in = S*(m.FL_a[n])\n",
    "    tauL_in = S*(m.tauL_a[n])\n",
    "    FR_in = S*(m.FR_a[n])\n",
    "    tauR_in = S*(m.tauR_a[n])\n",
    "    Gx_in = S*(m.GRF[n,c,'X','ps']-m.GRF[n,c,'X','ng'])\n",
    "    Gz_in = S*(m.GRF[n,c,'Z','ps'])\n",
    "    \n",
    "    var_list = [m.g,m.mb,m.ml,\n",
    "            m.lb,m.ll,\n",
    "            m.Inb,m.Inl,\n",
    "            m.q[n,c,'x'],m.q[n,c,'z'],m.q[n,c,'theta_Ll'],m.q[n,c,'theta_Rl'],m.q[n,c,'rL'],m.q[n,c,'rR'],\n",
    "            m.dq[n,c,'x'],m.dq[n,c,'z'],m.dq[n,c,'theta_Ll'],m.dq[n,c,'theta_Rl'],m.dq[n,c,'rL'],m.dq[n,c,'rR'],\n",
    "            m.ddq[n,c,'x'],m.ddq[n,c,'z'],m.ddq[n,c,'theta_Ll'],m.ddq[n,c,'theta_Rl'],m.ddq[n,c,'rL'],m.ddq[n,c,'rR'],\n",
    "            FL_in,tauL_in,FR_in,tauR_in,Gx_in,Gz_in]\n",
    "    return lambEOM_thRl(*var_list) == 0\n",
    "m.EOM_thRl = Constraint(m.N, m.cN, rule = EOM_thRl)\n",
    "\n",
    "def EOM_rL(m,n,c):\n",
    "    FL_in = S*(m.FL_a[n])\n",
    "    tauL_in = S*(m.tauL_a[n])\n",
    "    FR_in = S*(m.FR_a[n])\n",
    "    tauR_in = S*(m.tauR_a[n])\n",
    "    Gx_in = S*(m.GRF[n,c,'X','ps']-m.GRF[n,c,'X','ng'])\n",
    "    Gz_in = S*(m.GRF[n,c,'Z','ps'])\n",
    "    \n",
    "    var_list = [m.g,m.mb,m.ml,\n",
    "            m.lb,m.ll,\n",
    "            m.Inb,m.Inl,\n",
    "            m.q[n,c,'x'],m.q[n,c,'z'],m.q[n,c,'theta_Ll'],m.q[n,c,'theta_Rl'],m.q[n,c,'rL'],m.q[n,c,'rR'],\n",
    "            m.dq[n,c,'x'],m.dq[n,c,'z'],m.dq[n,c,'theta_Ll'],m.dq[n,c,'theta_Rl'],m.dq[n,c,'rL'],m.dq[n,c,'rR'],\n",
    "            m.ddq[n,c,'x'],m.ddq[n,c,'z'],m.ddq[n,c,'theta_Ll'],m.ddq[n,c,'theta_Rl'],m.ddq[n,c,'rL'],m.ddq[n,c,'rR'],\n",
    "            FL_in,tauL_in,FR_in,tauR_in,Gx_in,Gz_in]\n",
    "    return lambEOM_rL(*var_list) == 0\n",
    "m.EOM_rL = Constraint(m.N, m.cN, rule = EOM_rL)\n",
    "\n",
    "def EOM_rR(m,n,c):\n",
    "    FL_in = S*(m.FL_a[n])\n",
    "    tauL_in = S*(m.tauL_a[n])\n",
    "    FR_in = S*(m.FR_a[n])\n",
    "    tauR_in = S*(m.tauR_a[n])\n",
    "    Gx_in = S*(m.GRF[n,c,'X','ps']-m.GRF[n,c,'X','ng'])\n",
    "    Gz_in = S*(m.GRF[n,c,'Z','ps'])\n",
    "    \n",
    "    var_list = [m.g,m.mb,m.ml,\n",
    "            m.lb,m.ll,\n",
    "            m.Inb,m.Inl,\n",
    "            m.q[n,c,'x'],m.q[n,c,'z'],m.q[n,c,'theta_Ll'],m.q[n,c,'theta_Rl'],m.q[n,c,'rL'],m.q[n,c,'rR'],\n",
    "            m.dq[n,c,'x'],m.dq[n,c,'z'],m.dq[n,c,'theta_Ll'],m.dq[n,c,'theta_Rl'],m.dq[n,c,'rL'],m.dq[n,c,'rR'],\n",
    "            m.ddq[n,c,'x'],m.ddq[n,c,'z'],m.ddq[n,c,'theta_Ll'],m.ddq[n,c,'theta_Rl'],m.ddq[n,c,'rL'],m.ddq[n,c,'rR'],\n",
    "            FL_in,tauL_in,FR_in,tauR_in,Gx_in,Gz_in]\n",
    "    return lambEOM_rR(*var_list) == 0\n",
    "m.EOM_rR = Constraint(m.N, m.cN, rule = EOM_rR)\n",
    "print('Done')"
   ]
  },
  {
   "cell_type": "markdown",
   "id": "stopped-trade",
   "metadata": {},
   "source": [
    "#### Bounds"
   ]
  },
  {
   "cell_type": "code",
   "execution_count": null,
   "id": "pressing-screw",
   "metadata": {},
   "outputs": [],
   "source": []
  }
 ],
 "metadata": {
  "kernelspec": {
   "display_name": "Python 3",
   "language": "python",
   "name": "python3"
  },
  "language_info": {
   "codemirror_mode": {
    "name": "ipython",
    "version": 3
   },
   "file_extension": ".py",
   "mimetype": "text/x-python",
   "name": "python",
   "nbconvert_exporter": "python",
   "pygments_lexer": "ipython3",
   "version": "3.8.5"
  }
 },
 "nbformat": 4,
 "nbformat_minor": 5
}
