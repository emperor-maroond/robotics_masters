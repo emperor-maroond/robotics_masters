{
 "cells": [
  {
   "cell_type": "code",
   "execution_count": 1,
   "metadata": {},
   "outputs": [
    {
     "name": "stdout",
     "output_type": "stream",
     "text": [
      "WARNING: DEPRECATED: Using __getitem__ to return a set value from its\n",
      "    (ordered) position is deprecated.  Please use at()  (deprecated in 6.1,\n",
      "    will be removed in 7.0) (called from\n",
      "    /tmp/ipykernel_12899/2394908206.py:21)\n",
      "WARNING: DEPRECATED: Using __getitem__ to return a set value from its\n",
      "    (ordered) position is deprecated.  Please use at()  (deprecated in 6.1,\n",
      "    will be removed in 7.0) (called from\n",
      "    /tmp/ipykernel_12899/2394908206.py:23)\n"
     ]
    }
   ],
   "source": [
    "import sympy as sym\n",
    "import numpy as np\n",
    "import time\n",
    "import cloudpickle\n",
    "import matplotlib.pyplot as plt\n",
    "import matplotlib.animation as ani\n",
    "plt.style.use(['fivethirtyeight','seaborn-deep'])\n",
    "from IPython.display import HTML\n",
    "\n",
    "m = [0]*3\n",
    "\n",
    "with open(\"Feasible_Solution/short3/steady-state.pkl\", \"rb\") as f:\n",
    "    m[1] = cloudpickle.load(f)\n",
    "    \n",
    "with open(\"Feasible_Solution/short3/accel.pkl\", \"rb\") as f:\n",
    "    m[0] = cloudpickle.load(f)\n",
    "    \n",
    "with open(\"Feasible_Solution/short3/decel.pkl\", \"rb\") as f:\n",
    "    m[2] = cloudpickle.load(f)\n",
    "    \n",
    "N = m[0].N[-1]\n",
    "\n",
    "cN = m[0].cN[-1]"
   ]
  },
  {
   "cell_type": "code",
   "execution_count": 2,
   "metadata": {},
   "outputs": [
    {
     "name": "stdout",
     "output_type": "stream",
     "text": [
      "WARNING: DEPRECATED: Using __getitem__ to return a set value from its\n",
      "    (ordered) position is deprecated.  Please use at()  (deprecated in 6.1,\n",
      "    will be removed in 7.0) (called from /tmp/ipykernel_12899/3677061846.py:5)\n",
      "WARNING: DEPRECATED: Using __getitem__ to return a set value from its\n",
      "    (ordered) position is deprecated.  Please use at()  (deprecated in 6.1,\n",
      "    will be removed in 7.0) (called from /tmp/ipykernel_12899/3677061846.py:6)\n",
      "done\n"
     ]
    }
   ],
   "source": [
    "pub_time = 10/1000\n",
    "run_time = 0\n",
    "\n",
    "\n",
    "N = m[0].N[-1]\n",
    "cN = m[0].cN[-1]\n",
    "\n",
    "adder = 0\n",
    "x = []\n",
    "z = []\n",
    "theta_l_L = []\n",
    "r_L = []\n",
    "theta_l_R = []\n",
    "r_R = []\n",
    "solenoid_R = []\n",
    "solenoid_L = []\n",
    "ass = []\n",
    "ass2 = []\n",
    "\n",
    "time = []\n",
    "run_time = 0\n",
    "N_time = []\n",
    "cN_time = []\n",
    "N_adder = 0\n",
    "cN_adder = 0\n",
    "position_cN = 0\n",
    "position_N = 0\n",
    "\n",
    "x_tmp = []\n",
    "z_tmp = []\n",
    "theta_l_L_tmp = []\n",
    "r_L_tmp = []\n",
    "theta_l_R_tmp = []\n",
    "r_R_tmp = []\n",
    "F_bang_L = []\n",
    "F_bang_R = []\n",
    "\n",
    "def interpolate(y_inter, cur_time, x_inter, position):\n",
    "    # y_inter = data\n",
    "    # x_inter = time\n",
    "    ans = 0\n",
    "    for i in range(position, len(x_inter)):\n",
    "        if(x_inter[i]<=cur_time and cur_time<x_inter[i+1]):\n",
    "            position = i\n",
    "            ans = y_inter[i] + (cur_time - x_inter[i])*(y_inter[i+1] - y_inter[i])/(x_inter[i+1] - x_inter[i])\n",
    "            return ans, position\n",
    "\n",
    "        \n",
    "for i in range(0, 3):\n",
    "    if(i>0):\n",
    "        adder += m[i-1].q[N,cN,'x'].value\n",
    "        cN_adder += (m[i-1].tt[N,cN].value - m[i-1].tt[1,1].value)\n",
    "        N_adder += (m[i-1].tt0[N].value - m[i-1].tt0[1].value)\n",
    "    for n in range(1, N+1):\n",
    "        F_bang_R.append(m[i].Fbang_pos_R[n].value - m[i].Fbang_neg_R[n].value)\n",
    "        F_bang_L.append(m[i].Fbang_pos_L[n].value - m[i].Fbang_neg_L[n].value)\n",
    "        N_time.append(m[i].tt0[n].value - m[i].tt0[1].value + N_adder)\n",
    "        for c in range(1, cN+1):\n",
    "            cN_time.append(m[i].tt[n,c].value - m[i].tt[1,1].value + cN_adder)\n",
    "            x_tmp.append(m[i].q[n,c,'x'].value + adder)\n",
    "            z_tmp.append(m[i].q[n,c,'z'].value)\n",
    "            theta_l_L_tmp.append(m[i].q[n,c,'theta_l_L'].value)\n",
    "            r_L_tmp.append(m[i].q[n,c,'r_L'].value)\n",
    "            theta_l_R_tmp.append(m[i].q[n,c,'theta_l_R'].value)\n",
    "            r_R_tmp.append(m[i].q[n,c,'r_R'].value)\n",
    "\n",
    "while 1:\n",
    "    if(run_time>N_time[-1]):\n",
    "        break\n",
    "        \n",
    "#     tmp, position_cN = interpolate(theta_R, run_time, cN_time, position_cN)\n",
    "#     servo_R.append(tmp)\n",
    "    tmp, position_cN = interpolate(z_tmp, run_time, cN_time, position_cN)\n",
    "    z.append(tmp)\n",
    "\n",
    "    tmp, position_N = interpolate(F_bang_R, run_time, N_time, position_N)\n",
    "    ass.append(tmp)\n",
    "    if tmp >= 0.2:\n",
    "        solenoid_R.append(np.ceil(tmp))\n",
    "    elif tmp <= -0.2:\n",
    "        solenoid_R.append(np.floor(tmp))   \n",
    "    else:\n",
    "        solenoid_R.append(np.round(tmp))\n",
    "    tmp, position_N = interpolate(F_bang_L, run_time, N_time, position_N)\n",
    "    ass2.append(tmp)\n",
    "    if tmp >= 0.2:\n",
    "        solenoid_L.append(np.ceil(tmp))\n",
    "    elif tmp <= -0.2:\n",
    "        solenoid_L.append(np.floor(tmp))   \n",
    "    else:\n",
    "        solenoid_L.append(np.round(tmp))\n",
    "    \n",
    "    run_time += pub_time\n",
    "    time.append(run_time)\n",
    "    \n",
    "print('done')"
   ]
  },
  {
   "cell_type": "code",
   "execution_count": 5,
   "metadata": {
    "scrolled": false
   },
   "outputs": [
    {
     "name": "stderr",
     "output_type": "stream",
     "text": [
      "/tmp/ipykernel_12899/102220071.py:15: UserWarning: color is redundantly defined by the 'color' keyword argument and the fmt string \"k.\" (-> color='k'). The keyword argument will take precedence.\n",
      "  plt.plot(time[n], z[n], 'k.', c='red')\n",
      "/tmp/ipykernel_12899/102220071.py:16: UserWarning: color is redundantly defined by the 'color' keyword argument and the fmt string \"k.\" (-> color='k'). The keyword argument will take precedence.\n",
      "  plt.plot(time[n], ass[n], 'k.', c='green')\n",
      "/tmp/ipykernel_12899/102220071.py:18: UserWarning: color is redundantly defined by the 'color' keyword argument and the fmt string \"k.\" (-> color='k'). The keyword argument will take precedence.\n",
      "  plt.plot(time[n], solenoid_R[n], 'k.', c='black')\n",
      "/tmp/ipykernel_12899/102220071.py:19: UserWarning: color is redundantly defined by the 'color' keyword argument and the fmt string \"k.\" (-> color='k'). The keyword argument will take precedence.\n",
      "  plt.plot(time[n], solenoid_L[n], 'k.', c='blue')\n"
     ]
    },
    {
     "data": {
      "image/png": "[encoded data removed]",
      "text/plain": [
       "<Figure size 432x288 with 1 Axes>"
      ]
     },
     "metadata": {},
     "output_type": "display_data"
    }
   ],
   "source": [
    "# servo stuff\n",
    "\n",
    "R = []\n",
    "L = []\n",
    "adder = 0\n",
    "for i in range(0, 3):\n",
    "    for n in range(1, N+1):\n",
    "        for c in range(1, cN+1):\n",
    "            R.append(m[i].dq[n,c,'r_R'].value)\n",
    "            L.append(m[i].dq[n,c,'r_L'].value)\n",
    "\n",
    "plt.axes()\n",
    "plt.grid(True)\n",
    "for n in range (0,len(z)):\n",
    "    plt.plot(time[n], z[n], 'k.', c='red')\n",
    "    \n",
    "    plt.plot(time[n], solenoid_R[n], 'k.', c='black')\n",
    "    plt.plot(time[n], solenoid_L[n], 'k.', c='blue')\n",
    "    plt.xlabel('Nodes')\n",
    "    plt.ylabel('Piston velocity')\n",
    "    plt.title('Piston velocity')\n",
    "plt.show()\n",
    "\n",
    "# plt.axes()\n",
    "# plt.grid(True)\n",
    "# for n in range (0,len(z)):\n",
    "#     plt.plot(time[n], z[n], 'k.', c='red')\n",
    "#     plt.plot(time[n], solenoid_R[n], 'k.', c='black')\n",
    "#     plt.plot(time[n], ass[n], 'k.', c='green')\n",
    "#     plt.xlabel('Nodes')\n",
    "#     plt.ylabel('Piston velocity')\n",
    "#     plt.title('Piston velocity')\n",
    "# plt.show()"
   ]
  }
 ],
 "metadata": {
  "kernelspec": {
   "display_name": "Python 3 (ipykernel)",
   "language": "python",
   "name": "python3"
  },
  "language_info": {
   "codemirror_mode": {
    "name": "ipython",
    "version": 3
   },
   "file_extension": ".py",
   "mimetype": "text/x-python",
   "name": "python",
   "nbconvert_exporter": "python",
   "pygments_lexer": "ipython3",
   "version": "3.8.12"
  }
 },
 "nbformat": 4,
 "nbformat_minor": 4
}
